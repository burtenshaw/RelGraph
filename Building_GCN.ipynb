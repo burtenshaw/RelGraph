{
 "cells": [
  {
   "cell_type": "markdown",
   "metadata": {},
   "source": [
    "<h1>Building Feed-Forward Graph Convolutional Networks (GCN)</h1>\n",
    "<h3>Based on <a href=\"https://arxiv.org/pdf/1609.02907.pdf\">paper</a> by Thomas Kipf and Max Welling (2017)</h3>\n",
    "<h4>Implemented using NetworkX and Numpy</h4>\n",
    "\n",
    "\n",
    "**************************************************************************************************************"
   ]
  },
  {
   "cell_type": "markdown",
   "metadata": {},
   "source": [
    "<h2>Initializing the Graph G</h2>"
   ]
  },
  {
   "cell_type": "code",
   "execution_count": 10,
   "metadata": {},
   "outputs": [
    {
     "name": "stdout",
     "output_type": "stream",
     "text": [
      "Graph Info:\n",
      " Name: G\n",
      "Type: Graph\n",
      "Number of nodes: 6\n",
      "Number of edges: 7\n",
      "Average degree:   2.3333\n",
      "\n",
      "Graph Nodes:  [(0, {'name': 0}), (1, {'name': 1}), (2, {'name': 2}), (3, {'name': 3}), (4, {'name': 4}), (5, {'name': 5})]\n"
     ]
    },
    {
     "data": {
      "image/png": "[encoded data removed]",
      "text/plain": [
       "<Figure size 432x288 with 1 Axes>"
      ]
     },
     "metadata": {},
     "output_type": "display_data"
    }
   ],
   "source": [
    "import networkx as nx\n",
    "import numpy as np\n",
    "import matplotlib.pyplot as plt\n",
    "from scipy.linalg import fractional_matrix_power\n",
    "\n",
    "import pandas as pd\n",
    "\n",
    "import warnings\n",
    "warnings.filterwarnings(\"ignore\", category=UserWarning)\n",
    "\n",
    "\n",
    "#Initialize the graph\n",
    "G = nx.Graph(name='G')\n",
    "\n",
    "#Create nodes\n",
    "#In this example, the graph will consist of 6 nodes.\n",
    "#Each node is assigned node feature which corresponds to the node name\n",
    "for i in range(6):\n",
    "    G.add_node(i, name=i)\n",
    "\n",
    "\n",
    "#Define the edges and the edges to the graph\n",
    "edges = [(0,1),(0,2),(1,2),(0,3),(3,4),(3,5),(4,5)]\n",
    "G.add_edges_from(edges)\n",
    "\n",
    "#See graph info\n",
    "print('Graph Info:\\n', nx.info(G))\n",
    "\n",
    "#Inspect the node features\n",
    "print('\\nGraph Nodes: ', G.nodes.data())\n",
    "\n",
    "#Plot the graph\n",
    "nx.draw(G, with_labels=True, font_weight='bold')\n",
    "plt.show()"
   ]
  },
  {
   "cell_type": "markdown",
   "metadata": {},
   "source": [
    "<br>\n",
    "<h2>Inserting Adjacency Matrix (A) to Forward Pass Equation</h2>"
   ]
  },
  {
   "cell_type": "code",
   "execution_count": 2,
   "metadata": {},
   "outputs": [
    {
     "name": "stdout",
     "output_type": "stream",
     "text": [
      "Shape of A:  (6, 6)\n",
      "\n",
      "Shape of X:  (6, 1)\n",
      "\n",
      "Adjacency Matrix (A):\n",
      " [[0. 1. 1. 1. 0. 0.]\n",
      " [1. 0. 1. 0. 0. 0.]\n",
      " [1. 1. 0. 0. 0. 0.]\n",
      " [1. 0. 0. 0. 1. 1.]\n",
      " [0. 0. 0. 1. 0. 1.]\n",
      " [0. 0. 0. 1. 1. 0.]]\n",
      "\n",
      "Node Features Matrix (X):\n",
      " [[0]\n",
      " [1]\n",
      " [2]\n",
      " [3]\n",
      " [4]\n",
      " [5]]\n"
     ]
    }
   ],
   "source": [
    "#Get the Adjacency Matrix (A) and Node Features Matrix (X) as numpy array\n",
    "A = np.array(nx.attr_matrix(G, node_attr='name')[0])\n",
    "X = np.array(nx.attr_matrix(G, node_attr='name')[1])\n",
    "X = np.expand_dims(X,axis=1)\n",
    "\n",
    "print('Shape of A: ', A.shape)\n",
    "print('\\nShape of X: ', X.shape)\n",
    "print('\\nAdjacency Matrix (A):\\n', A)\n",
    "print('\\nNode Features Matrix (X):\\n', X)"
   ]
  },
  {
   "cell_type": "code",
   "execution_count": 11,
   "metadata": {},
   "outputs": [
    {
     "name": "stdout",
     "output_type": "stream",
     "text": [
      "Shape of A:  (81, 81)\n",
      "\n",
      "Shape of X:  (81, 1)\n",
      "\n",
      "Adjacency Matrix (A):\n",
      " [[0. 0. 0. ... 0. 0. 0.]\n",
      " [0. 0. 0. ... 0. 0. 0.]\n",
      " [0. 0. 0. ... 0. 0. 0.]\n",
      " ...\n",
      " [0. 0. 0. ... 1. 0. 0.]\n",
      " [0. 0. 0. ... 0. 0. 0.]\n",
      " [0. 0. 0. ... 0. 0. 0.]]\n"
     ]
    }
   ],
   "source": [
    "# G=nx.from_pandas_edgelist(_df.rename(columns={'source_name':'source','target_name':'target'}), \"source\", \"target\", edge_attr=True, create_using=nx.MultiGraph())\n",
    "_df = pd.read_csv('dense_relations.csv', index_col=0)\n",
    "G = nx.Graph(name='G')\n",
    "edges = []\n",
    "for i in _df.index:\n",
    "    x = _df.loc[i].source_name\n",
    "    y = _df.loc[i].target_name\n",
    "    G.add_node(x, name=x)\n",
    "    G.add_node(y, name=y)\n",
    "    edges.append([x,y])\n",
    "    \n",
    "G.add_edges_from(edges), \n",
    "\n",
    "A = np.array(nx.attr_matrix(G, node_attr='name')[0])\n",
    "X = np.array(nx.attr_matrix(G, node_attr='name')[1])\n",
    "X = np.expand_dims(X,axis=1)\n",
    "\n",
    "print('Shape of A: ', A.shape)\n",
    "print('\\nShape of X: ', X.shape)\n",
    "print('\\nAdjacency Matrix (A):\\n', A)"
   ]
  },
  {
   "cell_type": "code",
   "execution_count": 12,
   "metadata": {},
   "outputs": [
    {
     "ename": "TypeError",
     "evalue": "Cannot cast array data from dtype('float64') to dtype('<U32') according to the rule 'safe'",
     "output_type": "error",
     "traceback": [
      "\u001b[0;31m---------------------------------------------------------------------------\u001b[0m",
      "\u001b[0;31mTypeError\u001b[0m                                 Traceback (most recent call last)",
      "\u001b[0;32m<ipython-input-12-c055769a2153>\u001b[0m in \u001b[0;36m<module>\u001b[0;34m\u001b[0m\n\u001b[1;32m      1\u001b[0m \u001b[0;31m#Dot product Adjacency Matrix (A) and Node Features (X)\u001b[0m\u001b[0;34m\u001b[0m\u001b[0;34m\u001b[0m\u001b[0;34m\u001b[0m\u001b[0m\n\u001b[0;32m----> 2\u001b[0;31m \u001b[0mAX\u001b[0m \u001b[0;34m=\u001b[0m \u001b[0mnp\u001b[0m\u001b[0;34m.\u001b[0m\u001b[0mdot\u001b[0m\u001b[0;34m(\u001b[0m\u001b[0mA\u001b[0m\u001b[0;34m,\u001b[0m\u001b[0mX\u001b[0m\u001b[0;34m)\u001b[0m\u001b[0;34m\u001b[0m\u001b[0;34m\u001b[0m\u001b[0m\n\u001b[0m\u001b[1;32m      3\u001b[0m \u001b[0mprint\u001b[0m\u001b[0;34m(\u001b[0m\u001b[0;34m\"Dot product of A and X (AX):\\n\"\u001b[0m\u001b[0;34m,\u001b[0m \u001b[0mAX\u001b[0m\u001b[0;34m)\u001b[0m\u001b[0;34m\u001b[0m\u001b[0;34m\u001b[0m\u001b[0m\n",
      "\u001b[0;32m<__array_function__ internals>\u001b[0m in \u001b[0;36mdot\u001b[0;34m(*args, **kwargs)\u001b[0m\n",
      "\u001b[0;31mTypeError\u001b[0m: Cannot cast array data from dtype('float64') to dtype('<U32') according to the rule 'safe'"
     ]
    }
   ],
   "source": [
    "#Dot product Adjacency Matrix (A) and Node Features (X)\n",
    "AX = np.dot(A,X)\n",
    "print(\"Dot product of A and X (AX):\\n\", AX)"
   ]
  },
  {
   "cell_type": "markdown",
   "metadata": {},
   "source": [
    "<br>\n",
    "<h2>Adding Self-Loops and Normalizing A</h2>"
   ]
  },
  {
   "cell_type": "code",
   "execution_count": 13,
   "metadata": {},
   "outputs": [
    {
     "name": "stdout",
     "output_type": "stream",
     "text": [
      "Edges of G with self-loops:\n",
      " [('Adrian Pucey', 'Angelina Johnson'), ('Adrian Pucey', 'Fred Weasley'), ('Adrian Pucey', 'George Weasley'), ('Adrian Pucey', 'Katie Bell'), ('Adrian Pucey', 'Miles Bletchley'), ('Adrian Pucey', 'Alicia Spinnet'), ('Adrian Pucey', 'Marcus Flint'), ('Adrian Pucey', 'Oliver Wood'), ('Angelina Johnson', 'Alicia Spinnet'), ('Angelina Johnson', 'Fred Weasley'), ('Angelina Johnson', 'George Weasley'), ('Angelina Johnson', 'Harry Potter'), ('Angelina Johnson', 'Katie Bell'), ('Angelina Johnson', 'Marcus Flint'), ('Angelina Johnson', 'Miles Bletchley'), ('Angelina Johnson', 'Oliver Wood'), ('Fred Weasley', 'Albus Dumbledore'), ('Fred Weasley', 'Alicia Spinnet'), ('Fred Weasley', 'Bill Weasley'), ('Fred Weasley', 'Charlie Weasley'), ('Fred Weasley', 'Draco Malfoy'), ('Fred Weasley', 'Filius Flitwick'), ('Fred Weasley', 'George Weasley'), ('Fred Weasley', 'Gregory Goyle'), ('Fred Weasley', 'Harry Potter'), ('Fred Weasley', 'Marcus Flint'), ('Fred Weasley', 'Miles Bletchley'), ('Fred Weasley', 'Percy Weasley'), ('Fred Weasley', 'Poppy Pomfrey'), ('Fred Weasley', 'Ron Weasley'), ('Fred Weasley', 'Rubeus Hagrid'), ('Fred Weasley', 'Scabbers'), ('Fred Weasley', 'Vincent Crabbe'), ('Fred Weasley', 'Ginny Weasley'), ('Fred Weasley', 'Katie Bell'), ('Fred Weasley', 'Molly Weasley'), ('Fred Weasley', 'Neville Longbottom'), ('Fred Weasley', 'Oliver Wood'), ('Fred Weasley', 'Quirinus Quirrell'), ('Fred Weasley', 'Severus Snape'), ('George Weasley', 'Albus Dumbledore'), ('George Weasley', 'Alicia Spinnet'), ('George Weasley', 'Bill Weasley'), ('George Weasley', 'Charlie Weasley'), ('George Weasley', 'Draco Malfoy'), ('George Weasley', 'Gregory Goyle'), ('George Weasley', 'Harry Potter'), ('George Weasley', 'Hermione Granger'), ('George Weasley', 'Miles Bletchley'), ('George Weasley', 'Molly Weasley'), ('George Weasley', 'Percy Weasley'), ('George Weasley', 'Poppy Pomfrey'), ('George Weasley', 'Ron Weasley'), ('George Weasley', 'Rubeus Hagrid'), ('George Weasley', 'Scabbers'), ('George Weasley', 'Severus Snape'), ('George Weasley', 'Vincent Crabbe'), ('George Weasley', 'Katie Bell'), ('George Weasley', 'Marcus Flint'), ('George Weasley', 'Neville Longbottom'), ('George Weasley', 'Oliver Wood'), ('George Weasley', 'Quirinus Quirrell'), ('Katie Bell', 'Alicia Spinnet'), ('Katie Bell', 'Marcus Flint'), ('Katie Bell', 'Miles Bletchley'), ('Katie Bell', 'Minerva McGonagall'), ('Katie Bell', 'Oliver Wood'), ('Miles Bletchley', 'Alicia Spinnet'), ('Miles Bletchley', 'Marcus Flint'), ('Miles Bletchley', 'Oliver Wood'), ('Albus Dumbledore', 'Albus Dumbledore'), ('Albus Dumbledore', 'Argus Filch'), ('Albus Dumbledore', 'Bane'), ('Albus Dumbledore', 'Cornelius Fudge'), ('Albus Dumbledore', 'Dudley Dursley'), ('Albus Dumbledore', 'Filius Flitwick'), ('Albus Dumbledore', 'Firenze'), ('Albus Dumbledore', 'Gellert Grindelwald'), ('Albus Dumbledore', 'Harry Potter'), ('Albus Dumbledore', 'Hermione Granger'), ('Albus Dumbledore', 'James Potter'), ('Albus Dumbledore', 'Minerva McGonagall'), ('Albus Dumbledore', 'Neville Longbottom'), ('Albus Dumbledore', 'Nicolas Flamel'), ('Albus Dumbledore', 'Percy Weasley'), ('Albus Dumbledore', 'Perenelle Flamel'), ('Albus Dumbledore', 'Petunia Dursley'), ('Albus Dumbledore', 'Pomona Sprout'), ('Albus Dumbledore', 'Poppy Pomfrey'), ('Albus Dumbledore', 'Quirinus Quirrell'), ('Albus Dumbledore', 'Ron Weasley'), ('Albus Dumbledore', 'Rubeus Hagrid'), ('Albus Dumbledore', 'Scabbers'), ('Albus Dumbledore', 'Severus Snape'), ('Albus Dumbledore', 'Tom Riddle'), ('Albus Dumbledore', 'Vernon Dursley'), ('Albus Dumbledore', 'Draco Malfoy'), ('Albus Dumbledore', 'Lily Evans'), ('Albus Dumbledore', 'Sirius Black'), ('Argus Filch', 'Draco Malfoy'), ('Argus Filch', 'Harry Potter'), ('Argus Filch', 'Hermione Granger'), ('Argus Filch', 'Minerva McGonagall'), ('Argus Filch', 'Neville Longbottom'), ('Argus Filch', 'Peeves'), ('Argus Filch', 'Quirinus Quirrell'), ('Argus Filch', 'Ron Weasley'), ('Argus Filch', 'Rubeus Hagrid'), ('Argus Filch', 'Severus Snape'), ('Bane', 'Firenze'), ('Bane', 'Harry Potter'), ('Bane', 'Ronan'), ('Bane', 'Rubeus Hagrid'), ('Bane', 'Tom Riddle'), ('Bane', 'Hermione Granger'), ('Bane', 'Quirinus Quirrell'), ('Bane', 'Severus Snape'), ('Dudley Dursley', 'Dennis'), ('Dudley Dursley', 'Dudley Diddy Dursley'), ('Dudley Dursley', 'Arabella Figg'), ('Dudley Dursley', 'Draco Malfoy'), ('Dudley Dursley', 'Dudley Dursley'), ('Dudley Dursley', 'Gordon'), ('Dudley Dursley', 'Harry Potter'), ('Dudley Dursley', 'Malcolm'), ('Dudley Dursley', 'Marjorie Dursley'), ('Dudley Dursley', 'Minerva McGonagall'), ('Dudley Dursley', 'Petunia Dursley'), ('Dudley Dursley', 'Piers Polkiss'), ('Dudley Dursley', 'Rubeus Hagrid'), ('Dudley Dursley', 'Tom Riddle'), ('Dudley Dursley', 'Vernon Dursley'), ('Dudley Dursley', 'James Potter'), ('Dudley Dursley', 'Lily Evans'), ('Filius Flitwick', 'Draco Malfoy'), ('Filius Flitwick', 'Harry Potter'), ('Filius Flitwick', 'Hermione Granger'), ('Filius Flitwick', 'Minerva McGonagall'), ('Filius Flitwick', 'Neville Longbottom'), ('Filius Flitwick', 'Oliver Wood'), ('Filius Flitwick', 'Quirinus Quirrell'), ('Filius Flitwick', 'Ron Weasley'), ('Filius Flitwick', 'Seamus Finnigan'), ('Filius Flitwick', 'Severus Snape'), ('Filius Flitwick', 'Pomona Sprout'), ('Filius Flitwick', 'Rubeus Hagrid'), ('Firenze', 'Harry Potter'), ('Firenze', 'Quirinus Quirrell'), ('Firenze', 'Ronan'), ('Firenze', 'Rubeus Hagrid'), ('Firenze', 'Tom Riddle'), ('Firenze', 'Severus Snape'), ('Gellert Grindelwald', 'Nicolas Flamel'), ('Gellert Grindelwald', 'Harry Potter'), ('Harry Potter', 'Arabella Figg'), ('Harry Potter', 'Augusta Longbottom'), ('Harry Potter', 'Charlie Weasley'), ('Harry Potter', 'Cuthbert Binns'), ('Harry Potter', 'Dean Thomas'), ('Harry Potter', 'Dedalus Diggle'), ('Harry Potter', 'Dennis'), ('Harry Potter', 'Doris Crockford'), ('Harry Potter', 'Draco Malfoy'), ('Harry Potter', 'Dudley Diddy Dursley'), ('Harry Potter', 'Garrick Ollivander'), ('Harry Potter', 'Ginny Weasley'), ('Harry Potter', 'Gordon'), ('Harry Potter', 'Gregory Goyle'), ('Harry Potter', 'Griphook'), ('Harry Potter', 'Hannah Abbott'), ('Harry Potter', 'Alicia Spinnet'), ('Harry Potter', 'Arthur Weasley'), ('Harry Potter', 'Evans'), ('Harry Potter', 'Harry Potter'), ('Harry Potter', 'Hermione Granger'), ('Harry Potter', 'Irma Pince'), ('Harry Potter', 'James Potter'), ('Harry Potter', 'Lavender Brown'), ('Harry Potter', 'Lee Jordan'), ('Harry Potter', 'Lily Evans'), ('Harry Potter', 'Madam Malkin'), ('Harry Potter', 'Malcolm'), ('Harry Potter', 'Marcus Flint'), ('Harry Potter', 'Marjorie Dursley'), ('Harry Potter', 'McKinnon'), ('Harry Potter', 'Minerva McGonagall'), ('Harry Potter', 'Molly Weasley'), ('Harry Potter', 'Neville Longbottom'), ('Harry Potter', 'Nicholas de Mimsy-Porpington'), ('Harry Potter', 'Nicolas Flamel'), ('Harry Potter', 'Oliver Wood'), ('Harry Potter', 'Parvati Patil'), ('Harry Potter', 'Peeves'), ('Harry Potter', 'Percy Weasley'), ('Harry Potter', 'Perenelle Flamel'), ('Harry Potter', 'Petunia Dursley'), ('Harry Potter', 'Piers Polkiss'), ('Harry Potter', 'Poppy Pomfrey'), ('Harry Potter', 'Quirinus Quirrell'), ('Harry Potter', 'Rolanda Hooch'), ('Harry Potter', 'Ron Weasley'), ('Harry Potter', 'Ronan'), ('Harry Potter', 'Rubeus Hagrid'), ('Harry Potter', 'Scabbers'), ('Harry Potter', 'Seamus Finnigan'), ('Harry Potter', 'Severus Snape'), ('Harry Potter', 'Terence Higgs'), ('Harry Potter', 'Tom'), ('Harry Potter', 'Tom Riddle'), ('Harry Potter', 'Vernon Dursley'), ('Harry Potter', 'Vincent Crabbe'), ('Harry Potter', 'Lucius Malfoy'), ('Harry Potter', 'Sirius Black'), ('Hermione Granger', 'Charlie Weasley'), ('Hermione Granger', 'Dean Thomas'), ('Hermione Granger', 'Draco Malfoy'), ('Hermione Granger', 'Gregory Goyle'), ('Hermione Granger', 'Irma Pince'), ('Hermione Granger', 'Lavender Brown'), ('Hermione Granger', 'Lee Jordan'), ('Hermione Granger', 'Marcus Flint'), ('Hermione Granger', 'Minerva McGonagall'), ('Hermione Granger', 'Neville Longbottom'), ('Hermione Granger', 'Nicolas Flamel'), ('Hermione Granger', 'Oliver Wood'), ('Hermione Granger', 'Parvati Patil'), ('Hermione Granger', 'Percy Weasley'), ('Hermione Granger', 'Perenelle Flamel'), ('Hermione Granger', 'Poppy Pomfrey'), ('Hermione Granger', 'Quirinus Quirrell'), ('Hermione Granger', 'Ron Weasley'), ('Hermione Granger', 'Ronan'), ('Hermione Granger', 'Rubeus Hagrid'), ('Hermione Granger', 'Scabbers'), ('Hermione Granger', 'Seamus Finnigan'), ('Hermione Granger', 'Severus Snape'), ('Hermione Granger', 'Tom Riddle'), ('Hermione Granger', 'Vernon Dursley'), ('Hermione Granger', 'Vincent Crabbe'), ('James Potter', 'Draco Malfoy'), ('James Potter', 'Garrick Ollivander'), ('James Potter', 'James Potter'), ('James Potter', 'Lily Evans'), ('James Potter', 'McKinnon'), ('James Potter', 'Minerva McGonagall'), ('James Potter', 'Petunia Dursley'), ('James Potter', 'Rubeus Hagrid'), ('James Potter', 'Severus Snape'), ('James Potter', 'Tom Riddle'), ('James Potter', 'Vernon Dursley'), ('James Potter', 'Ron Weasley'), ('Minerva McGonagall', 'Alicia Spinnet'), ('Minerva McGonagall', 'Draco Malfoy'), ('Minerva McGonagall', 'Gregory Goyle'), ('Minerva McGonagall', 'Lee Jordan'), ('Minerva McGonagall', 'Lily Evans'), ('Minerva McGonagall', 'Marcus Flint'), ('Minerva McGonagall', 'Arthur Weasley'), ('Minerva McGonagall', 'Charlie Weasley'), ('Minerva McGonagall', 'Dedalus Diggle'), ('Minerva McGonagall', 'Minerva McGonagall'), ('Minerva McGonagall', 'Molly Weasley'), ('Minerva McGonagall', 'Neville Longbottom'), ('Minerva McGonagall', 'Oliver Wood'), ('Minerva McGonagall', 'Peeves'), ('Minerva McGonagall', 'Petunia Dursley'), ('Minerva McGonagall', 'Quirinus Quirrell'), ('Minerva McGonagall', 'Ron Weasley'), ('Minerva McGonagall', 'Rubeus Hagrid'), ('Minerva McGonagall', 'Severus Snape'), ('Minerva McGonagall', 'Tom Riddle'), ('Minerva McGonagall', 'Vernon Dursley'), ('Minerva McGonagall', 'Percy Weasley'), ('Minerva McGonagall', 'Pomona Sprout'), ('Minerva McGonagall', 'Vincent Crabbe'), ('Neville Longbottom', 'Algie Longbottom'), ('Neville Longbottom', 'Augusta Longbottom'), ('Neville Longbottom', 'Dean Thomas'), ('Neville Longbottom', 'Draco Malfoy'), ('Neville Longbottom', 'Enid Longbottom'), ('Neville Longbottom', 'Gregory Goyle'), ('Neville Longbottom', 'Neville Longbottom'), ('Neville Longbottom', 'Peeves'), ('Neville Longbottom', 'Poppy Pomfrey'), ('Neville Longbottom', 'Rolanda Hooch'), ('Neville Longbottom', 'Ron Weasley'), ('Neville Longbottom', 'Rubeus Hagrid'), ('Neville Longbottom', 'Scabbers'), ('Neville Longbottom', 'Seamus Finnigan'), ('Neville Longbottom', 'Severus Snape'), ('Neville Longbottom', 'Vincent Crabbe'), ('Neville Longbottom', 'Percy Weasley'), ('Nicolas Flamel', 'Irma Pince'), ('Nicolas Flamel', 'Draco Malfoy'), ('Nicolas Flamel', 'Perenelle Flamel'), ('Nicolas Flamel', 'Rubeus Hagrid'), ('Nicolas Flamel', 'Severus Snape'), ('Nicolas Flamel', 'Ron Weasley'), ('Percy Weasley', 'Bill Weasley'), ('Percy Weasley', 'Charlie Weasley'), ('Percy Weasley', 'Molly Weasley'), ('Percy Weasley', 'Peeves'), ('Percy Weasley', 'Arthur Weasley'), ('Percy Weasley', 'Ron Weasley'), ('Percy Weasley', 'Rubeus Hagrid'), ('Percy Weasley', 'Scabbers'), ('Percy Weasley', 'Severus Snape'), ('Perenelle Flamel', 'Ron Weasley'), ('Petunia Dursley', 'Draco Malfoy'), ('Petunia Dursley', 'Dudley Diddy Dursley'), ('Petunia Dursley', 'Lily Evans'), ('Petunia Dursley', 'Marjorie Dursley'), ('Petunia Dursley', 'Arabella Figg'), ('Petunia Dursley', 'Evans'), ('Petunia Dursley', 'Petunia Dursley'), ('Petunia Dursley', 'Piers Polkiss'), ('Petunia Dursley', 'Rubeus Hagrid'), ('Petunia Dursley', 'Tom Riddle'), ('Petunia Dursley', 'Vernon Dursley'), ('Petunia Dursley', 'Yvonne'), ('Pomona Sprout', 'Quirinus Quirrell'), ('Pomona Sprout', 'Severus Snape'), ('Pomona Sprout', 'Rubeus Hagrid'), ('Poppy Pomfrey', 'Draco Malfoy'), ('Poppy Pomfrey', 'Gregory Goyle'), ('Poppy Pomfrey', 'Ron Weasley'), ('Poppy Pomfrey', 'Quirinus Quirrell'), ('Poppy Pomfrey', 'Vincent Crabbe'), ('Quirinus Quirrell', 'Draco Malfoy'), ('Quirinus Quirrell', 'Lily Evans'), ('Quirinus Quirrell', 'Peeves'), ('Quirinus Quirrell', 'Garrick Ollivander'), ('Quirinus Quirrell', 'Ron Weasley'), ('Quirinus Quirrell', 'Ronan'), ('Quirinus Quirrell', 'Rubeus Hagrid'), ('Quirinus Quirrell', 'Seamus Finnigan'), ('Quirinus Quirrell', 'Severus Snape'), ('Quirinus Quirrell', 'Tom Riddle'), ('Ron Weasley', 'Arthur Weasley'), ('Ron Weasley', 'Bill Weasley'), ('Ron Weasley', 'Charlie Weasley'), ('Ron Weasley', 'Dean Thomas'), ('Ron Weasley', 'Draco Malfoy'), ('Ron Weasley', 'Ginny Weasley'), ('Ron Weasley', 'Gregory Goyle'), ('Ron Weasley', 'Lavender Brown'), ('Ron Weasley', 'Lee Jordan'), ('Ron Weasley', 'Marcus Flint'), ('Ron Weasley', 'Molly Weasley'), ('Ron Weasley', 'Nicholas de Mimsy-Porpington'), ('Ron Weasley', 'Parvati Patil'), ('Ron Weasley', 'Peeves'), ('Ron Weasley', 'Rolanda Hooch'), ('Ron Weasley', 'Irma Pince'), ('Ron Weasley', 'Lily Evans'), ('Ron Weasley', 'Lucius Malfoy'), ('Ron Weasley', 'Oliver Wood'), ('Ron Weasley', 'Ron Weasley'), ('Ron Weasley', 'Rubeus Hagrid'), ('Ron Weasley', 'Scabbers'), ('Ron Weasley', 'Seamus Finnigan'), ('Ron Weasley', 'Severus Snape'), ('Ron Weasley', 'Tom Riddle'), ('Ron Weasley', 'Vincent Crabbe'), ('Rubeus Hagrid', 'Charlie Weasley'), ('Rubeus Hagrid', 'Dedalus Diggle'), ('Rubeus Hagrid', 'Doris Crockford'), ('Rubeus Hagrid', 'Draco Malfoy'), ('Rubeus Hagrid', 'Garrick Ollivander'), ('Rubeus Hagrid', 'Gregory Goyle'), ('Rubeus Hagrid', 'Griphook'), ('Rubeus Hagrid', 'Lee Jordan'), ('Rubeus Hagrid', 'Lily Evans'), ('Rubeus Hagrid', 'Marcus Flint'), ('Rubeus Hagrid', 'Ronan'), ('Rubeus Hagrid', 'Dean Thomas'), ('Rubeus Hagrid', 'Madam Malkin'), ('Rubeus Hagrid', 'McKinnon'), ('Rubeus Hagrid', 'Peeves'), ('Rubeus Hagrid', 'Rubeus Hagrid'), ('Rubeus Hagrid', 'Severus Snape'), ('Rubeus Hagrid', 'Tom'), ('Rubeus Hagrid', 'Tom Riddle'), ('Rubeus Hagrid', 'Vernon Dursley'), ('Rubeus Hagrid', 'Sirius Black'), ('Rubeus Hagrid', 'Vincent Crabbe'), ('Scabbers', 'Arthur Weasley'), ('Scabbers', 'Bill Weasley'), ('Scabbers', 'Charlie Weasley'), ('Scabbers', 'Dean Thomas'), ('Scabbers', 'Draco Malfoy'), ('Scabbers', 'Gregory Goyle'), ('Scabbers', 'Vincent Crabbe'), ('Scabbers', 'Seamus Finnigan'), ('Severus Snape', 'Draco Malfoy'), ('Severus Snape', 'Gregory Goyle'), ('Severus Snape', 'Irma Pince'), ('Severus Snape', 'Seamus Finnigan'), ('Severus Snape', 'Severus Snape'), ('Severus Snape', 'Tom Riddle'), ('Severus Snape', 'Vincent Crabbe'), ('Tom Riddle', 'Arthur Weasley'), ('Tom Riddle', 'Garrick Ollivander'), ('Tom Riddle', 'Lily Evans'), ('Tom Riddle', 'Molly Weasley'), ('Tom Riddle', 'McKinnon'), ('Tom Riddle', 'Tom Riddle'), ('Tom Riddle', 'Vernon Dursley'), ('Vernon Dursley', 'Dudley Diddy Dursley'), ('Vernon Dursley', 'Lily Evans'), ('Vernon Dursley', 'Marjorie Dursley'), ('Vernon Dursley', 'Piers Polkiss'), ('Vernon Dursley', 'Vernon Dursley'), ('Algie Longbottom', 'Augusta Longbottom'), ('Algie Longbottom', 'Enid Longbottom'), ('Augusta Longbottom', 'Enid Longbottom'), ('Alicia Spinnet', 'Marcus Flint'), ('Alicia Spinnet', 'Oliver Wood'), ('Alicia Spinnet', 'Lee Jordan'), ('Marcus Flint', 'Lee Jordan'), ('Marcus Flint', 'Oliver Wood'), ('Marcus Flint', 'Rolanda Hooch'), ('Oliver Wood', 'Charlie Weasley'), ('Arabella Figg', 'Arabella Figg'), ('Arabella Figg', 'Piers Polkiss'), ('Draco Malfoy', 'Charlie Weasley'), ('Draco Malfoy', 'Dean Thomas'), ('Draco Malfoy', 'Draco Malfoy'), ('Draco Malfoy', 'Gregory Goyle'), ('Draco Malfoy', 'Lily Evans'), ('Draco Malfoy', 'Lucius Malfoy'), ('Draco Malfoy', 'Madam Malkin'), ('Draco Malfoy', 'Narcissa Malfoy'), ('Draco Malfoy', 'Seamus Finnigan'), ('Draco Malfoy', 'Vincent Crabbe'), ('Draco Malfoy', 'Rolanda Hooch'), ('Peeves', 'Nicholas de Mimsy-Porpington'), ('Arthur Weasley', 'Charlie Weasley'), ('Arthur Weasley', 'Molly Weasley'), ('Charlie Weasley', 'Bill Weasley'), ('Charlie Weasley', 'Charlie Weasley'), ('Charlie Weasley', 'Dean Thomas'), ('Charlie Weasley', 'Molly Weasley'), ('Charlie Weasley', 'Seamus Finnigan'), ('Molly Weasley', 'Ginny Weasley'), ('Bill Weasley', 'Bill Weasley'), ('Dean Thomas', 'Seamus Finnigan'), ('Seamus Finnigan', 'Nicholas de Mimsy-Porpington'), ('Seamus Finnigan', 'Finnigan'), ('Seamus Finnigan', 'Seamus Finnigan'), ('Dedalus Diggle', 'Dedalus Diggle'), ('Dedalus Diggle', 'Tom'), ('Dennis', 'Gordon'), ('Dennis', 'Malcolm'), ('Dennis', 'Piers Polkiss'), ('Gordon', 'Malcolm'), ('Gordon', 'Piers Polkiss'), ('Malcolm', 'Piers Polkiss'), ('Gregory Goyle', 'Vincent Crabbe'), ('Lily Evans', 'Evans'), ('Lily Evans', 'Lily Evans'), ('Lily Evans', 'McKinnon'), ('Lucius Malfoy', 'Narcissa Malfoy'), ('Piers Polkiss', 'Piers Polkiss'), ('Evans', 'Evans'), ('Finnigan', 'Finnigan'), ('Garrick Ollivander', 'Garrick Ollivander'), ('Hannah Abbott', 'Susan Bones'), ('Lavender Brown', 'Parvati Patil'), (0, 0), (1, 1), (2, 2), (3, 3), (4, 4), (5, 5), (6, 6), (7, 7), (8, 8), (9, 9), (10, 10), (11, 11), (12, 12), (13, 13), (14, 14), (15, 15), (16, 16), (17, 17), (18, 18), (19, 19), (20, 20), (21, 21), (22, 22), (23, 23), (24, 24), (25, 25), (26, 26), (27, 27), (28, 28), (29, 29), (30, 30), (31, 31), (32, 32), (33, 33), (34, 34), (35, 35), (36, 36), (37, 37), (38, 38), (39, 39), (40, 40), (41, 41), (42, 42), (43, 43), (44, 44), (45, 45), (46, 46), (47, 47), (48, 48), (49, 49), (50, 50), (51, 51), (52, 52), (53, 53), (54, 54), (55, 55), (56, 56), (57, 57), (58, 58), (59, 59), (60, 60), (61, 61), (62, 62), (63, 63), (64, 64), (65, 65), (66, 66), (67, 67), (68, 68), (69, 69), (70, 70), (71, 71), (72, 72), (73, 73), (74, 74), (75, 75), (76, 76), (77, 77), (78, 78), (79, 79), (80, 80)]\n"
     ]
    },
    {
     "ename": "KeyError",
     "evalue": "'name'",
     "output_type": "error",
     "traceback": [
      "\u001b[0;31m---------------------------------------------------------------------------\u001b[0m",
      "\u001b[0;31mKeyError\u001b[0m                                  Traceback (most recent call last)",
      "\u001b[0;32m<ipython-input-13-84adae0b21a6>\u001b[0m in \u001b[0;36m<module>\u001b[0;34m\u001b[0m\n\u001b[1;32m     12\u001b[0m \u001b[0;34m\u001b[0m\u001b[0m\n\u001b[1;32m     13\u001b[0m \u001b[0;31m#Get the Adjacency Matrix (A) and Node Features Matrix (X) of added self-lopps graph\u001b[0m\u001b[0;34m\u001b[0m\u001b[0;34m\u001b[0m\u001b[0;34m\u001b[0m\u001b[0m\n\u001b[0;32m---> 14\u001b[0;31m \u001b[0mA_hat\u001b[0m \u001b[0;34m=\u001b[0m \u001b[0mnp\u001b[0m\u001b[0;34m.\u001b[0m\u001b[0marray\u001b[0m\u001b[0;34m(\u001b[0m\u001b[0mnx\u001b[0m\u001b[0;34m.\u001b[0m\u001b[0mattr_matrix\u001b[0m\u001b[0;34m(\u001b[0m\u001b[0mG_self_loops\u001b[0m\u001b[0;34m,\u001b[0m \u001b[0mnode_attr\u001b[0m\u001b[0;34m=\u001b[0m\u001b[0;34m'name'\u001b[0m\u001b[0;34m)\u001b[0m\u001b[0;34m[\u001b[0m\u001b[0;36m0\u001b[0m\u001b[0;34m]\u001b[0m\u001b[0;34m)\u001b[0m\u001b[0;34m\u001b[0m\u001b[0;34m\u001b[0m\u001b[0m\n\u001b[0m\u001b[1;32m     15\u001b[0m \u001b[0mprint\u001b[0m\u001b[0;34m(\u001b[0m\u001b[0;34m'Adjacency Matrix of added self-loops G (A_hat):\\n'\u001b[0m\u001b[0;34m,\u001b[0m \u001b[0mA_hat\u001b[0m\u001b[0;34m)\u001b[0m\u001b[0;34m\u001b[0m\u001b[0;34m\u001b[0m\u001b[0m\n\u001b[1;32m     16\u001b[0m \u001b[0;34m\u001b[0m\u001b[0m\n",
      "\u001b[0;32m~/anaconda3/envs/py38/lib/python3.8/site-packages/networkx/linalg/attrmatrix.py\u001b[0m in \u001b[0;36mattr_matrix\u001b[0;34m(G, edge_attr, node_attr, normalized, rc_order, dtype, order)\u001b[0m\n\u001b[1;32m    277\u001b[0m \u001b[0;34m\u001b[0m\u001b[0m\n\u001b[1;32m    278\u001b[0m     \u001b[0;32mif\u001b[0m \u001b[0mrc_order\u001b[0m \u001b[0;32mis\u001b[0m \u001b[0;32mNone\u001b[0m\u001b[0;34m:\u001b[0m\u001b[0;34m\u001b[0m\u001b[0;34m\u001b[0m\u001b[0m\n\u001b[0;32m--> 279\u001b[0;31m         \u001b[0mordering\u001b[0m \u001b[0;34m=\u001b[0m \u001b[0mlist\u001b[0m\u001b[0;34m(\u001b[0m\u001b[0;34m{\u001b[0m\u001b[0mnode_value\u001b[0m\u001b[0;34m(\u001b[0m\u001b[0mn\u001b[0m\u001b[0;34m)\u001b[0m \u001b[0;32mfor\u001b[0m \u001b[0mn\u001b[0m \u001b[0;32min\u001b[0m \u001b[0mG\u001b[0m\u001b[0;34m}\u001b[0m\u001b[0;34m)\u001b[0m\u001b[0;34m\u001b[0m\u001b[0;34m\u001b[0m\u001b[0m\n\u001b[0m\u001b[1;32m    280\u001b[0m     \u001b[0;32melse\u001b[0m\u001b[0;34m:\u001b[0m\u001b[0;34m\u001b[0m\u001b[0;34m\u001b[0m\u001b[0m\n\u001b[1;32m    281\u001b[0m         \u001b[0mordering\u001b[0m \u001b[0;34m=\u001b[0m \u001b[0mrc_order\u001b[0m\u001b[0;34m\u001b[0m\u001b[0;34m\u001b[0m\u001b[0m\n",
      "\u001b[0;32m~/anaconda3/envs/py38/lib/python3.8/site-packages/networkx/linalg/attrmatrix.py\u001b[0m in \u001b[0;36m<setcomp>\u001b[0;34m(.0)\u001b[0m\n\u001b[1;32m    277\u001b[0m \u001b[0;34m\u001b[0m\u001b[0m\n\u001b[1;32m    278\u001b[0m     \u001b[0;32mif\u001b[0m \u001b[0mrc_order\u001b[0m \u001b[0;32mis\u001b[0m \u001b[0;32mNone\u001b[0m\u001b[0;34m:\u001b[0m\u001b[0;34m\u001b[0m\u001b[0;34m\u001b[0m\u001b[0m\n\u001b[0;32m--> 279\u001b[0;31m         \u001b[0mordering\u001b[0m \u001b[0;34m=\u001b[0m \u001b[0mlist\u001b[0m\u001b[0;34m(\u001b[0m\u001b[0;34m{\u001b[0m\u001b[0mnode_value\u001b[0m\u001b[0;34m(\u001b[0m\u001b[0mn\u001b[0m\u001b[0;34m)\u001b[0m \u001b[0;32mfor\u001b[0m \u001b[0mn\u001b[0m \u001b[0;32min\u001b[0m \u001b[0mG\u001b[0m\u001b[0;34m}\u001b[0m\u001b[0;34m)\u001b[0m\u001b[0;34m\u001b[0m\u001b[0;34m\u001b[0m\u001b[0m\n\u001b[0m\u001b[1;32m    280\u001b[0m     \u001b[0;32melse\u001b[0m\u001b[0;34m:\u001b[0m\u001b[0;34m\u001b[0m\u001b[0;34m\u001b[0m\u001b[0m\n\u001b[1;32m    281\u001b[0m         \u001b[0mordering\u001b[0m \u001b[0;34m=\u001b[0m \u001b[0mrc_order\u001b[0m\u001b[0;34m\u001b[0m\u001b[0;34m\u001b[0m\u001b[0m\n",
      "\u001b[0;32m~/anaconda3/envs/py38/lib/python3.8/site-packages/networkx/linalg/attrmatrix.py\u001b[0m in \u001b[0;36mvalue\u001b[0;34m(u)\u001b[0m\n\u001b[1;32m     38\u001b[0m         \u001b[0;31m# assume it is a key for the node attribute dictionary\u001b[0m\u001b[0;34m\u001b[0m\u001b[0;34m\u001b[0m\u001b[0;34m\u001b[0m\u001b[0m\n\u001b[1;32m     39\u001b[0m         \u001b[0;32mdef\u001b[0m \u001b[0mvalue\u001b[0m\u001b[0;34m(\u001b[0m\u001b[0mu\u001b[0m\u001b[0;34m)\u001b[0m\u001b[0;34m:\u001b[0m\u001b[0;34m\u001b[0m\u001b[0;34m\u001b[0m\u001b[0m\n\u001b[0;32m---> 40\u001b[0;31m             \u001b[0;32mreturn\u001b[0m \u001b[0mG\u001b[0m\u001b[0;34m.\u001b[0m\u001b[0mnodes\u001b[0m\u001b[0;34m[\u001b[0m\u001b[0mu\u001b[0m\u001b[0;34m]\u001b[0m\u001b[0;34m[\u001b[0m\u001b[0mnode_attr\u001b[0m\u001b[0;34m]\u001b[0m\u001b[0;34m\u001b[0m\u001b[0;34m\u001b[0m\u001b[0m\n\u001b[0m\u001b[1;32m     41\u001b[0m \u001b[0;34m\u001b[0m\u001b[0m\n\u001b[1;32m     42\u001b[0m     \u001b[0;32melse\u001b[0m\u001b[0;34m:\u001b[0m\u001b[0;34m\u001b[0m\u001b[0;34m\u001b[0m\u001b[0m\n",
      "\u001b[0;31mKeyError\u001b[0m: 'name'"
     ]
    }
   ],
   "source": [
    "#Add Self Loops\n",
    "G_self_loops = G.copy()\n",
    "\n",
    "self_loops = []\n",
    "for i in range(G.number_of_nodes()):\n",
    "    self_loops.append((i,i))\n",
    "\n",
    "G_self_loops.add_edges_from(self_loops)\n",
    "\n",
    "#Check the edges of G_self_loops after adding the self loops\n",
    "print('Edges of G with self-loops:\\n', G_self_loops.edges)\n",
    "\n",
    "#Get the Adjacency Matrix (A) and Node Features Matrix (X) of added self-lopps graph\n",
    "A_hat = np.array(nx.attr_matrix(G_self_loops, node_attr='name')[0])\n",
    "print('Adjacency Matrix of added self-loops G (A_hat):\\n', A_hat)\n",
    "\n",
    "#Calculate the dot product of A_hat and X (AX)\n",
    "AX = np.dot(A_hat, X)\n",
    "print('AX:\\n', AX)"
   ]
  },
  {
   "cell_type": "code",
   "execution_count": 5,
   "metadata": {},
   "outputs": [
    {
     "name": "stdout",
     "output_type": "stream",
     "text": [
      "Degree Matrix of added self-loops G (D):  [(0, 5), (1, 4), (2, 4), (3, 5), (4, 4), (5, 4)]\n",
      "Degree Matrix of added self-loops G as numpy array (D):\n",
      " [[5 0 0 0 0 0]\n",
      " [0 4 0 0 0 0]\n",
      " [0 0 4 0 0 0]\n",
      " [0 0 0 5 0 0]\n",
      " [0 0 0 0 4 0]\n",
      " [0 0 0 0 0 4]]\n",
      "Inverse of D:\n",
      " [[ 0.2   0.    0.    0.    0.    0.  ]\n",
      " [ 0.    0.25  0.    0.    0.    0.  ]\n",
      " [ 0.    0.    0.25  0.    0.    0.  ]\n",
      " [-0.   -0.   -0.    0.2  -0.   -0.  ]\n",
      " [ 0.    0.    0.    0.    0.25  0.  ]\n",
      " [ 0.    0.    0.    0.    0.    0.25]]\n",
      "DAX:\n",
      " [[1.2 ]\n",
      " [0.75]\n",
      " [0.75]\n",
      " [2.4 ]\n",
      " [3.  ]\n",
      " [3.  ]]\n"
     ]
    }
   ],
   "source": [
    "#Get the Degree Matrix of the added self-loops graph\n",
    "Deg_Mat = G_self_loops.degree()\n",
    "print('Degree Matrix of added self-loops G (D): ', Deg_Mat)\n",
    "\n",
    "#Convert the Degree Matrix to a N x N matrix where N is the number of nodes\n",
    "D = np.diag([deg for (n,deg) in list(Deg_Mat)])\n",
    "print('Degree Matrix of added self-loops G as numpy array (D):\\n', D)\n",
    "\n",
    "#Find the inverse of Degree Matrix (D)\n",
    "D_inv = np.linalg.inv(D)\n",
    "print('Inverse of D:\\n', D_inv)\n",
    "\n",
    "#Dot product of D and AX for normalization\n",
    "DAX = np.dot(D_inv,AX)\n",
    "print('DAX:\\n', DAX)"
   ]
  },
  {
   "cell_type": "code",
   "execution_count": 6,
   "metadata": {},
   "outputs": [
    {
     "name": "stdout",
     "output_type": "stream",
     "text": [
      "DADX:\n",
      " [[1.27082039]\n",
      " [0.75      ]\n",
      " [0.75      ]\n",
      " [2.61246118]\n",
      " [2.92082039]\n",
      " [2.92082039]]\n"
     ]
    }
   ],
   "source": [
    "#Symmetrically-normalization\n",
    "D_half_norm = fractional_matrix_power(D, -0.5)\n",
    "DADX = D_half_norm.dot(A_hat).dot(D_half_norm).dot(X)\n",
    "print('DADX:\\n', DADX)"
   ]
  },
  {
   "cell_type": "markdown",
   "metadata": {},
   "source": [
    "<br>\n",
    "<h2>Adding Weights and Activation Function</h2>"
   ]
  },
  {
   "cell_type": "code",
   "execution_count": 7,
   "metadata": {},
   "outputs": [
    {
     "name": "stdout",
     "output_type": "stream",
     "text": [
      "Features Representation from GCN output:\n",
      " [[0.00027758 0.        ]\n",
      " [0.00017298 0.        ]\n",
      " [0.00017298 0.        ]\n",
      " [0.00053017 0.        ]\n",
      " [0.00054097 0.        ]\n",
      " [0.00054097 0.        ]]\n"
     ]
    }
   ],
   "source": [
    "#Initialize the weights\n",
    "np.random.seed(77777)\n",
    "n_h = 4 #number of neurons in the hidden layer\n",
    "n_y = 2 #number of neurons in the output layer\n",
    "W0 = np.random.randn(X.shape[1],n_h) * 0.01\n",
    "W1 = np.random.randn(n_h,n_y) * 0.01\n",
    "\n",
    "#Implement ReLu as activation function\n",
    "def relu(x):\n",
    "    return np.maximum(0,x)\n",
    "\n",
    "#Build GCN layer\n",
    "#In this function, we implement numpy to simplify\n",
    "def gcn(A,H,W):\n",
    "    I = np.identity(A.shape[0]) #create Identity Matrix of A\n",
    "    A_hat = A + I #add self-loop to A\n",
    "    D = np.diag(np.sum(A_hat, axis=0)) #create Degree Matrix of A\n",
    "    D_half_norm = fractional_matrix_power(D, -0.5) #calculate D to the power of -0.5\n",
    "    eq = D_half_norm.dot(A_hat).dot(D_half_norm).dot(H).dot(W)\n",
    "    return relu(eq)\n",
    "\n",
    "\n",
    "#Do forward propagation\n",
    "H1 = gcn(A,X,W0)\n",
    "H2 = gcn(A,H1,W1)\n",
    "print('Features Representation from GCN output:\\n', H2)"
   ]
  },
  {
   "cell_type": "markdown",
   "metadata": {},
   "source": [
    "<br>\n",
    "<h2>Plotting the Features Representations</h2>"
   ]
  },
  {
   "cell_type": "code",
   "execution_count": 8,
   "metadata": {},
   "outputs": [
    {
     "data": {
      "image/png": "[encoded data removed]",
      "text/plain": [
       "<Figure size 432x288 with 1 Axes>"
      ]
     },
     "metadata": {
      "needs_background": "light"
     },
     "output_type": "display_data"
    }
   ],
   "source": [
    "def plot_features(H2):\n",
    "    #Plot the features representation\n",
    "    x = H2[:,0]\n",
    "    y = H2[:,1]\n",
    "\n",
    "    size = 1000\n",
    "\n",
    "    plt.scatter(x,y,size)\n",
    "    plt.xlim([np.min(x)*0.9, np.max(x)*1.1])\n",
    "    plt.ylim([-1, 1])\n",
    "    plt.xlabel('Feature Representation Dimension 0')\n",
    "    plt.ylabel('Feature Representation Dimension 1')\n",
    "    plt.title('Feature Representation')\n",
    "\n",
    "    for i,row in enumerate(H2):\n",
    "        str = \"{}\".format(i)\n",
    "        plt.annotate(str, (row[0],row[1]),fontsize=18, fontweight='bold')\n",
    "\n",
    "    plt.show()\n",
    "\n",
    "\n",
    "plot_features(H2)"
   ]
  },
  {
   "cell_type": "code",
   "execution_count": null,
   "metadata": {},
   "outputs": [],
   "source": []
  },
  {
   "cell_type": "code",
   "execution_count": null,
   "metadata": {},
   "outputs": [],
   "source": []
  }
 ],
 "metadata": {
  "kernelspec": {
   "display_name": "Python 3",
   "language": "python",
   "name": "python3"
  },
  "language_info": {
   "codemirror_mode": {
    "name": "ipython",
    "version": 3
   },
   "file_extension": ".py",
   "mimetype": "text/x-python",
   "name": "python",
   "nbconvert_exporter": "python",
   "pygments_lexer": "ipython3",
   "version": "3.8.5"
  }
 },
 "nbformat": 4,
 "nbformat_minor": 4
}
